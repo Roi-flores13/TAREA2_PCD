{
 "cells": [
  {
   "cell_type": "markdown",
   "id": "82ce62af",
   "metadata": {},
   "source": [
    "# Tarea 2 - PCD\n",
    "### Roi Flores"
   ]
  },
  {
   "cell_type": "markdown",
   "id": "a1c3bce8",
   "metadata": {},
   "source": [
    "*   **¿Qué es MLOps?**\n",
    "    MLOps (Machine Learning Operations) es una práctica para **simplificar y automatizar el proceso de llevar los modelos de Machine Learning a producción y luego mantenerlos y monitorearlos**. Combina el desarrollo de modelos de ML con su operación.\n",
    "\n",
    "*   **¿Por qué es necesario MLOps?**\n",
    "    Poner modelos de ML en producción es complicado porque el ciclo de vida es complejo y requiere mucha colaboración. Es fundamental para **administrar nuevos modelos sistemáticamente** y asegurar que se adapten a los **cambios en los datos** para mantener su precisión.\n",
    "\n",
    "*   **Beneficios Principales**\n",
    "    Los principales beneficios de MLOps son **eficiencia** (desarrollo y despliegue más rápidos), **escalabilidad** (gestionar muchos modelos) y **reducción de riesgos** (mayor transparencia y cumplimiento). También mejora la **colaboración**, ahorra costos y garantiza la reproducibilidad.\n",
    "\n",
    "*   **MLOps vs. DevOps (la diferencia clave)**\n",
    "    MLOps se basa en los principios de DevOps, pero se enfoca específicamente en Machine Learning. La gran diferencia es que MLOps debe gestionar **datos y modelos que cambian constantemente**, lo que requiere pruebas y despliegues específicos para los datos, los modelos y los procesos de entrenamiento.\n",
    "\n",
    "*   **Niveles de Madurez de MLOps**\n",
    "    La implementación de MLOps puede clasificarse en niveles según la automatización. Empieza con el **Nivel 0 (manual)**, donde todo se hace a mano; avanza al **Nivel 1 (pipeline automatizado)** con entrenamiento continuo; y llega al **Nivel 2 (CI/CD automatizado)**, con actualizaciones rápidas y un reentrenamiento constante de los modelos."
   ]
  }
 ],
 "metadata": {
  "language_info": {
   "name": "python"
  }
 },
 "nbformat": 4,
 "nbformat_minor": 5
}
